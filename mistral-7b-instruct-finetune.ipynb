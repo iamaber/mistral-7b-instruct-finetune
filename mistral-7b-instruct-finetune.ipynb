{
 "cells": [
  {
   "cell_type": "code",
   "execution_count": 1,
   "metadata": {},
   "outputs": [
    {
     "name": "stdout",
     "output_type": "stream",
     "text": [
      "GPU name: NVIDIA A40\n",
      "GPU memory: 47.72593664 GB\n"
     ]
    }
   ],
   "source": [
    "import os\n",
    "import torch\n",
    "from datasets import load_dataset\n",
    "from transformers import (\n",
    "    AutoModelForCausalLM,\n",
    "    AutoTokenizer,\n",
    "    BitsAndBytesConfig,\n",
    "    TrainingArguments,\n",
    "    pipeline,\n",
    ")\n",
    "from peft import LoraConfig, PeftModel, get_peft_model\n",
    "from trl import SFTTrainer\n",
    "\n",
    "\n",
    "print(f\"GPU name: {torch.cuda.get_device_name(0)}\")\n",
    "print(f\"GPU memory: {torch.cuda.get_device_properties(0).total_memory / 1e9} GB\")"
   ]
  },
  {
   "cell_type": "code",
   "execution_count": 2,
   "metadata": {},
   "outputs": [
    {
     "data": {
      "application/vnd.jupyter.widget-view+json": {
       "model_id": "f6e71339ba144674a6cc0860a0cd586a",
       "version_major": 2,
       "version_minor": 0
      },
      "text/plain": [
       "VBox(children=(HTML(value='<center> <img\\nsrc=https://huggingface.co/front/assets/huggingface_logo-noborder.sv…"
      ]
     },
     "metadata": {},
     "output_type": "display_data"
    }
   ],
   "source": [
    "from huggingface_hub import login\n",
    "\n",
    "login()"
   ]
  },
  {
   "cell_type": "code",
   "execution_count": 3,
   "metadata": {},
   "outputs": [],
   "source": [
    "# Set seed for reproducibility\n",
    "import random\n",
    "\n",
    "def set_seed(seed=11):\n",
    "    \"\"\"Set all seeds to ensure reproducibility\"\"\"\n",
    "    random.seed(seed)\n",
    "    torch.manual_seed(seed)\n",
    "    torch.cuda.manual_seed_all(seed)\n",
    "    torch.backends.cudnn.deterministic = True\n",
    "    torch.backends.cudnn.benchmark = False\n",
    "\n",
    "set_seed()"
   ]
  },
  {
   "cell_type": "markdown",
   "metadata": {},
   "source": [
    "### Load Dataset"
   ]
  },
  {
   "cell_type": "code",
   "execution_count": 4,
   "metadata": {},
   "outputs": [
    {
     "name": "stdout",
     "output_type": "stream",
     "text": [
      "DatasetDict({\n",
      "    train: Dataset({\n",
      "        features: ['pubid', 'question', 'context', 'long_answer', 'final_decision'],\n",
      "        num_rows: 900\n",
      "    })\n",
      "    test: Dataset({\n",
      "        features: ['pubid', 'question', 'context', 'long_answer', 'final_decision'],\n",
      "        num_rows: 100\n",
      "    })\n",
      "})\n",
      "{'pubid': 12098035, 'question': 'Does a special interest in laparoscopy affect the treatment of acute cholecystitis?', 'context': {'contexts': ['We tested the hypothesis that the treatment of patients with acute cholecystitis (AC) would be improved under the care of laparoscopic specialists.', 'The records of patients undergoing cholecystectomy for AC from 1 January 1996 to 31 December 1998 were reviewed retrospectively. Of 170 patients, 48 were cared for by three laparoscopic specialists (LS group), whereas 122 were treated by nine general surgeons who perform only laparoscopic cholecystectomy (LC) (GS group). The rates of successful LC, complications, and length of hospital stay were compared. Multivariate analysis was used to control for baseline differences.', 'The patients in the GS group were older (median age, 63 vs 53 years; p = 0.01). In all, 31 LS patients (65%), as compared with 44 GS patients (36%), had successful laparoscopic treatment (p = 0.001). The operating time was the same (median, 70 min). The proportion of patients with postoperative complications was similar in the two groups (37% in the GS vs 31% in the LS group; p = 0.6). The median postoperative hospital stay (3 vs 5 days; p<0.01) was shorter in the LS group. On logistic regression analysis, significant predictors of a successful laparoscopic operation included LS group (p<0.01) and age (p = 0). Predictors of prolonged length of hospital stay were age (p<0.01) and comorbidity score (p<0.01), with LS group status not a significant factor (p = 0.21).'], 'labels': ['BACKGROUND', 'METHODS', 'RESULTS'], 'meshes': ['Acute Disease', 'Adult', 'Age Factors', 'Aged', 'Aged, 80 and over', 'Cholecystectomy, Laparoscopic', 'Cholecystitis', 'Humans', 'Intraoperative Complications', 'Laparoscopy', 'Length of Stay', 'Logistic Models', 'Middle Aged', 'Multivariate Analysis', 'Postoperative Complications', 'Predictive Value of Tests', 'Retrospective Studies', 'Risk Factors', 'Time Factors', 'Treatment Outcome', 'Workload'], 'reasoning_required_pred': ['y', 'e', 's'], 'reasoning_free_pred': ['y', 'e', 's']}, 'long_answer': 'Patients with AC are more likely to undergo successful LC if cared for by a surgeon with an interest in laparoscopy. However, length of hospital stay is influenced more by patient factors in a multivariate model.', 'final_decision': 'yes'}\n"
     ]
    }
   ],
   "source": [
    "from datasets import load_dataset\n",
    "\n",
    "# Load PubMedQA dataset\n",
    "pubmedqa = load_dataset(\"qiaojin/PubMedQA\", \"pqa_labeled\")\n",
    "\n",
    "# Split the dataset\n",
    "train_test_split = pubmedqa[\"train\"].train_test_split(test_size=0.1)\n",
    "dataset = train_test_split\n",
    "\n",
    "# Examine the dataset\n",
    "print(dataset)\n",
    "print(dataset[\"train\"][0])"
   ]
  },
  {
   "cell_type": "markdown",
   "metadata": {},
   "source": [
    "### Preprocess the Data"
   ]
  },
  {
   "cell_type": "code",
   "execution_count": 5,
   "metadata": {},
   "outputs": [
    {
     "data": {
      "application/vnd.jupyter.widget-view+json": {
       "model_id": "876c7c29a508475f8ac3f49d60c58fb8",
       "version_major": 2,
       "version_minor": 0
      },
      "text/plain": [
       "Map:   0%|          | 0/900 [00:00<?, ? examples/s]"
      ]
     },
     "metadata": {},
     "output_type": "display_data"
    },
    {
     "data": {
      "application/vnd.jupyter.widget-view+json": {
       "model_id": "6aed22be8823450c8b03cd8f7d7b5597",
       "version_major": 2,
       "version_minor": 0
      },
      "text/plain": [
       "Map:   0%|          | 0/100 [00:00<?, ? examples/s]"
      ]
     },
     "metadata": {},
     "output_type": "display_data"
    },
    {
     "data": {
      "application/vnd.jupyter.widget-view+json": {
       "model_id": "fd43a538f7824710b98bf5c61ceb6b57",
       "version_major": 2,
       "version_minor": 0
      },
      "text/plain": [
       "Map:   0%|          | 0/900 [00:00<?, ? examples/s]"
      ]
     },
     "metadata": {},
     "output_type": "display_data"
    },
    {
     "data": {
      "application/vnd.jupyter.widget-view+json": {
       "model_id": "5d056b98adf84b71b52523394453a00c",
       "version_major": 2,
       "version_minor": 0
      },
      "text/plain": [
       "Map:   0%|          | 0/100 [00:00<?, ? examples/s]"
      ]
     },
     "metadata": {},
     "output_type": "display_data"
    }
   ],
   "source": [
    "from transformers import AutoTokenizer\n",
    "\n",
    "# Load tokenizer for Mistral-7B-Instruct\n",
    "model_name = \"mistralai/Mistral-7B-Instruct-v0.3\"\n",
    "tokenizer = AutoTokenizer.from_pretrained(model_name)\n",
    "tokenizer.pad_token = tokenizer.eos_token  # Set pad token to EOS token\n",
    "\n",
    "def format_prompt(example):\n",
    "    # Format the prompt using Mistral's instruction format\n",
    "    prompt = f\"<s>[INST] Context: {example['context']}\\n\\nQuestion: {example['question']} [/INST] {example['final_decision']}</s>\"\n",
    "    return {\"text\": prompt}\n",
    "\n",
    "def tokenize_function(examples):\n",
    "    # Tokenize the formatted prompts\n",
    "    return tokenizer(examples[\"text\"], truncation=True, max_length=512, padding=\"max_length\")\n",
    "\n",
    "# Apply formatting and tokenization\n",
    "dataset = dataset.map(format_prompt)\n",
    "tokenized_dataset = dataset.map(tokenize_function, batched=True, remove_columns=dataset[\"train\"].column_names)"
   ]
  },
  {
   "cell_type": "markdown",
   "metadata": {},
   "source": [
    "### Fine-tuning\n"
   ]
  },
  {
   "cell_type": "code",
   "execution_count": 9,
   "metadata": {},
   "outputs": [
    {
     "data": {
      "application/vnd.jupyter.widget-view+json": {
       "model_id": "cbaca3d1878f47588bf58d53aa088f23",
       "version_major": 2,
       "version_minor": 0
      },
      "text/plain": [
       "Loading checkpoint shards:   0%|          | 0/3 [00:00<?, ?it/s]"
      ]
     },
     "metadata": {},
     "output_type": "display_data"
    },
    {
     "data": {
      "application/vnd.jupyter.widget-view+json": {
       "model_id": "a599a48d837d4ec49352a006efea7c63",
       "version_major": 2,
       "version_minor": 0
      },
      "text/plain": [
       "generation_config.json:   0%|          | 0.00/116 [00:00<?, ?B/s]"
      ]
     },
     "metadata": {},
     "output_type": "display_data"
    },
    {
     "name": "stdout",
     "output_type": "stream",
     "text": [
      "trainable params: 41,943,040 || all params: 7,289,966,592 || trainable%: 0.5754\n"
     ]
    }
   ],
   "source": [
    "import torch\n",
    "from transformers import AutoModelForCausalLM\n",
    "from peft import LoraConfig, get_peft_model\n",
    "\n",
    "# Load the model without quantization\n",
    "model = AutoModelForCausalLM.from_pretrained(\n",
    "    model_name,\n",
    "    torch_dtype=torch.bfloat16,  # Use bfloat16 for memory efficiency\n",
    "    device_map=\"auto\",\n",
    "    trust_remote_code=True,\n",
    ")\n",
    "\n",
    "# Configure LoRA (Low-Rank Adaptation)\n",
    "lora_config = LoraConfig(\n",
    "    r=16,\n",
    "    lora_alpha=32,\n",
    "    lora_dropout=0.05,\n",
    "    bias=\"none\",\n",
    "    task_type=\"CAUSAL_LM\",\n",
    "    target_modules=[\"q_proj\", \"k_proj\", \"v_proj\", \"o_proj\", \"gate_proj\", \"up_proj\", \"down_proj\"]\n",
    ")\n",
    "\n",
    "# Apply LoRA to the model\n",
    "model = get_peft_model(model, lora_config)\n",
    "model.print_trainable_parameters()"
   ]
  },
  {
   "cell_type": "markdown",
   "metadata": {},
   "source": [
    "### Train the Model"
   ]
  },
  {
   "cell_type": "code",
   "execution_count": 15,
   "metadata": {},
   "outputs": [],
   "source": [
    "from transformers import TrainingArguments, Trainer, DataCollatorForLanguageModeling\n",
    "\n",
    "# Define training arguments with corrected settings\n",
    "training_args = TrainingArguments(\n",
    "    output_dir=\"./mistral-pubmedqa\",\n",
    "    per_device_train_batch_size=4,\n",
    "    per_device_eval_batch_size=4,\n",
    "    gradient_accumulation_steps=4,\n",
    "    learning_rate=2e-4,\n",
    "    num_train_epochs=3,\n",
    "    logging_steps=10,\n",
    "    save_steps=500,\n",
    "    eval_strategy=\"steps\",\n",
    "    eval_steps=500,\n",
    "    fp16=False,  # Disable fp16\n",
    "    bf16=True,   # Enable bf16 since we're using bfloat16 model\n",
    "    optim=\"adamw_torch\",  # Use standard AdamW instead of paged_adamw_8bit\n",
    "    report_to=\"wandb\",\n",
    "    run_name=\"mistral-pubmedqa-finetune\",\n",
    "    gradient_checkpointing=True,\n",
    "    ddp_find_unused_parameters=False,\n",
    "    remove_unused_columns=False,\n",
    "    label_names=[\"labels\"],\n",
    ")\n",
    "\n",
    "# Use a custom data collator instead of the built-in one\n",
    "def custom_data_collator(features):\n",
    "    batch = {}\n",
    "    # Stack input_ids and attention_mask\n",
    "    batch[\"input_ids\"] = torch.stack([f[\"input_ids\"] for f in features])\n",
    "    batch[\"attention_mask\"] = torch.stack([f[\"attention_mask\"] for f in features])\n",
    "    # For causal language modeling, labels are the same as input_ids\n",
    "    batch[\"labels\"] = batch[\"input_ids\"].clone()\n",
    "    return batch\n",
    "\n",
    "# Initialize the Trainer with custom data collator\n",
    "trainer = Trainer(\n",
    "    model=model,\n",
    "    args=training_args,\n",
    "    train_dataset=tokenized_dataset[\"train\"],\n",
    "    eval_dataset=tokenized_dataset[\"test\"],\n",
    "    data_collator=custom_data_collator,\n",
    ")"
   ]
  },
  {
   "cell_type": "code",
   "execution_count": 17,
   "metadata": {},
   "outputs": [
    {
     "data": {
      "text/plain": [
       "PeftModelForCausalLM(\n",
       "  (base_model): LoraModel(\n",
       "    (model): MistralForCausalLM(\n",
       "      (model): MistralModel(\n",
       "        (embed_tokens): Embedding(32768, 4096)\n",
       "        (layers): ModuleList(\n",
       "          (0-31): 32 x MistralDecoderLayer(\n",
       "            (self_attn): MistralSdpaAttention(\n",
       "              (q_proj): lora.Linear(\n",
       "                (base_layer): Linear(in_features=4096, out_features=4096, bias=False)\n",
       "                (lora_dropout): ModuleDict(\n",
       "                  (default): Dropout(p=0.05, inplace=False)\n",
       "                )\n",
       "                (lora_A): ModuleDict(\n",
       "                  (default): Linear(in_features=4096, out_features=16, bias=False)\n",
       "                )\n",
       "                (lora_B): ModuleDict(\n",
       "                  (default): Linear(in_features=16, out_features=4096, bias=False)\n",
       "                )\n",
       "                (lora_embedding_A): ParameterDict()\n",
       "                (lora_embedding_B): ParameterDict()\n",
       "              )\n",
       "              (k_proj): lora.Linear(\n",
       "                (base_layer): Linear(in_features=4096, out_features=1024, bias=False)\n",
       "                (lora_dropout): ModuleDict(\n",
       "                  (default): Dropout(p=0.05, inplace=False)\n",
       "                )\n",
       "                (lora_A): ModuleDict(\n",
       "                  (default): Linear(in_features=4096, out_features=16, bias=False)\n",
       "                )\n",
       "                (lora_B): ModuleDict(\n",
       "                  (default): Linear(in_features=16, out_features=1024, bias=False)\n",
       "                )\n",
       "                (lora_embedding_A): ParameterDict()\n",
       "                (lora_embedding_B): ParameterDict()\n",
       "              )\n",
       "              (v_proj): lora.Linear(\n",
       "                (base_layer): Linear(in_features=4096, out_features=1024, bias=False)\n",
       "                (lora_dropout): ModuleDict(\n",
       "                  (default): Dropout(p=0.05, inplace=False)\n",
       "                )\n",
       "                (lora_A): ModuleDict(\n",
       "                  (default): Linear(in_features=4096, out_features=16, bias=False)\n",
       "                )\n",
       "                (lora_B): ModuleDict(\n",
       "                  (default): Linear(in_features=16, out_features=1024, bias=False)\n",
       "                )\n",
       "                (lora_embedding_A): ParameterDict()\n",
       "                (lora_embedding_B): ParameterDict()\n",
       "              )\n",
       "              (o_proj): lora.Linear(\n",
       "                (base_layer): Linear(in_features=4096, out_features=4096, bias=False)\n",
       "                (lora_dropout): ModuleDict(\n",
       "                  (default): Dropout(p=0.05, inplace=False)\n",
       "                )\n",
       "                (lora_A): ModuleDict(\n",
       "                  (default): Linear(in_features=4096, out_features=16, bias=False)\n",
       "                )\n",
       "                (lora_B): ModuleDict(\n",
       "                  (default): Linear(in_features=16, out_features=4096, bias=False)\n",
       "                )\n",
       "                (lora_embedding_A): ParameterDict()\n",
       "                (lora_embedding_B): ParameterDict()\n",
       "              )\n",
       "              (rotary_emb): MistralRotaryEmbedding()\n",
       "            )\n",
       "            (mlp): MistralMLP(\n",
       "              (gate_proj): lora.Linear(\n",
       "                (base_layer): Linear(in_features=4096, out_features=14336, bias=False)\n",
       "                (lora_dropout): ModuleDict(\n",
       "                  (default): Dropout(p=0.05, inplace=False)\n",
       "                )\n",
       "                (lora_A): ModuleDict(\n",
       "                  (default): Linear(in_features=4096, out_features=16, bias=False)\n",
       "                )\n",
       "                (lora_B): ModuleDict(\n",
       "                  (default): Linear(in_features=16, out_features=14336, bias=False)\n",
       "                )\n",
       "                (lora_embedding_A): ParameterDict()\n",
       "                (lora_embedding_B): ParameterDict()\n",
       "              )\n",
       "              (up_proj): lora.Linear(\n",
       "                (base_layer): Linear(in_features=4096, out_features=14336, bias=False)\n",
       "                (lora_dropout): ModuleDict(\n",
       "                  (default): Dropout(p=0.05, inplace=False)\n",
       "                )\n",
       "                (lora_A): ModuleDict(\n",
       "                  (default): Linear(in_features=4096, out_features=16, bias=False)\n",
       "                )\n",
       "                (lora_B): ModuleDict(\n",
       "                  (default): Linear(in_features=16, out_features=14336, bias=False)\n",
       "                )\n",
       "                (lora_embedding_A): ParameterDict()\n",
       "                (lora_embedding_B): ParameterDict()\n",
       "              )\n",
       "              (down_proj): lora.Linear(\n",
       "                (base_layer): Linear(in_features=14336, out_features=4096, bias=False)\n",
       "                (lora_dropout): ModuleDict(\n",
       "                  (default): Dropout(p=0.05, inplace=False)\n",
       "                )\n",
       "                (lora_A): ModuleDict(\n",
       "                  (default): Linear(in_features=14336, out_features=16, bias=False)\n",
       "                )\n",
       "                (lora_B): ModuleDict(\n",
       "                  (default): Linear(in_features=16, out_features=4096, bias=False)\n",
       "                )\n",
       "                (lora_embedding_A): ParameterDict()\n",
       "                (lora_embedding_B): ParameterDict()\n",
       "              )\n",
       "              (act_fn): SiLU()\n",
       "            )\n",
       "            (input_layernorm): MistralRMSNorm()\n",
       "            (post_attention_layernorm): MistralRMSNorm()\n",
       "          )\n",
       "        )\n",
       "        (norm): MistralRMSNorm()\n",
       "      )\n",
       "      (lm_head): Linear(in_features=4096, out_features=32768, bias=False)\n",
       "    )\n",
       "  )\n",
       ")"
      ]
     },
     "execution_count": 17,
     "metadata": {},
     "output_type": "execute_result"
    }
   ],
   "source": [
    "# Make sure the model is in training mode\n",
    "model.train()"
   ]
  },
  {
   "cell_type": "markdown",
   "metadata": {},
   "source": [
    "### Save the model"
   ]
  },
  {
   "cell_type": "code",
   "execution_count": 18,
   "metadata": {},
   "outputs": [
    {
     "name": "stderr",
     "output_type": "stream",
     "text": [
      "/usr/local/lib/python3.11/dist-packages/huggingface_hub/file_download.py:945: FutureWarning: `resume_download` is deprecated and will be removed in version 1.0.0. Downloads always resume when possible. If you want to force a new download, use `force_download=True`.\n",
      "  warnings.warn(\n"
     ]
    }
   ],
   "source": [
    "# Save the model\n",
    "trainer.save_model(\"./mistral-pubmedqa-finetune\")\n",
    "\n",
    "# Save the tokenizer\n",
    "tokenizer.save_pretrained(\"./mistral-pubmedqa-finetune\")\n",
    "\n",
    "# Save the LoRA adapter separately\n",
    "model.save_pretrained(\"./mistral-pubmedqa-adapter\")"
   ]
  },
  {
   "cell_type": "markdown",
   "metadata": {},
   "source": [
    "### Evaluation"
   ]
  },
  {
   "cell_type": "code",
   "execution_count": 20,
   "metadata": {},
   "outputs": [
    {
     "name": "stdout",
     "output_type": "stream",
     "text": [
      "PubMedQA Evaluation Results:\n",
      "Accuracy: 0.7300\n",
      "F1 Score: 0.7023\n"
     ]
    },
    {
     "data": {
      "image/png": "[encoded data removed]",
      "text/plain": [
       "<Figure size 800x600 with 2 Axes>"
      ]
     },
     "metadata": {},
     "output_type": "display_data"
    }
   ],
   "source": [
    "import numpy as np\n",
    "from sklearn.metrics import accuracy_score, f1_score, confusion_matrix\n",
    "import seaborn as sns\n",
    "import matplotlib.pyplot as plt\n",
    "\n",
    "def evaluate_pubmedqa(model, tokenizer, dataset):\n",
    "    \"\"\"Evaluate the model on PubMedQA test set\"\"\"\n",
    "    predictions = []\n",
    "    references = []\n",
    "    \n",
    "    # Set model to evaluation mode\n",
    "    model.eval()\n",
    "    \n",
    "    # Process each example in the test set\n",
    "    for example in dataset:\n",
    "        # Format the prompt\n",
    "        prompt = f\"<s>[INST] Context: {example['context']}\\n\\nQuestion: {example['question']} [/INST]\"\n",
    "        \n",
    "        # Tokenize the prompt\n",
    "        inputs = tokenizer(prompt, return_tensors=\"pt\").to(model.device)\n",
    "        \n",
    "        # Generate answer\n",
    "        with torch.no_grad():\n",
    "            outputs = model.generate(\n",
    "                input_ids=inputs[\"input_ids\"],\n",
    "                attention_mask=inputs[\"attention_mask\"],\n",
    "                max_new_tokens=10,\n",
    "                do_sample=False,\n",
    "                pad_token_id=tokenizer.eos_token_id\n",
    "            )\n",
    "        \n",
    "        # Decode the generated text\n",
    "        generated_text = tokenizer.decode(outputs[0], skip_special_tokens=True)\n",
    "        \n",
    "        # Extract the answer (yes/no/maybe)\n",
    "        # The answer should be after the [/INST] token\n",
    "        answer = generated_text.split(\"[/INST]\")[-1].strip().lower()\n",
    "        \n",
    "        # Normalize the answer to match the expected format\n",
    "        if \"yes\" in answer:\n",
    "            pred = \"yes\"\n",
    "        elif \"no\" in answer:\n",
    "            pred = \"no\"\n",
    "        elif \"maybe\" in answer:\n",
    "            pred = \"maybe\"\n",
    "        else:\n",
    "            # If unclear, default to maybe\n",
    "            pred = \"maybe\"\n",
    "        \n",
    "        predictions.append(pred)\n",
    "        references.append(example[\"final_decision\"].lower())\n",
    "    \n",
    "    # Calculate metrics\n",
    "    accuracy = accuracy_score(references, predictions)\n",
    "    f1 = f1_score(references, predictions, average=\"weighted\")\n",
    "    \n",
    "    # Create confusion matrix\n",
    "    cm = confusion_matrix(references, predictions, labels=[\"yes\", \"no\", \"maybe\"])\n",
    "    \n",
    "    # Plot confusion matrix\n",
    "    plt.figure(figsize=(8, 6))\n",
    "    sns.heatmap(cm, annot=True, fmt='d', cmap='Blues', xticklabels=[\"yes\", \"no\", \"maybe\"], yticklabels=[\"yes\", \"no\", \"maybe\"])\n",
    "    plt.xlabel('Predicted')\n",
    "    plt.ylabel('Actual')\n",
    "    plt.title('Confusion Matrix - PubMedQA Evaluation')\n",
    "    plt.savefig('./pubmedqa_confusion_matrix.png')\n",
    "    \n",
    "    # Print metrics\n",
    "    print(f\"PubMedQA Evaluation Results:\")\n",
    "    print(f\"Accuracy: {accuracy:.4f}\")\n",
    "    print(f\"F1 Score: {f1:.4f}\")\n",
    "    \n",
    "    return {\n",
    "        \"accuracy\": accuracy,\n",
    "        \"f1\": f1,\n",
    "        \"confusion_matrix\": cm\n",
    "    }\n",
    "\n",
    "# Evaluate on PubMedQA test set\n",
    "pubmedqa_results = evaluate_pubmedqa(model, tokenizer, dataset[\"test\"])"
   ]
  },
  {
   "cell_type": "markdown",
   "metadata": {},
   "source": [
    "### Evaluation on MMLU"
   ]
  },
  {
   "cell_type": "code",
   "execution_count": 25,
   "metadata": {},
   "outputs": [
    {
     "data": {
      "application/vnd.jupyter.widget-view+json": {
       "model_id": "7ef088eeca28415b9dced8cc84c74edf",
       "version_major": 2,
       "version_minor": 0
      },
      "text/plain": [
       "Downloading readme: 0.00B [00:00, ?B/s]"
      ]
     },
     "metadata": {},
     "output_type": "display_data"
    },
    {
     "data": {
      "application/vnd.jupyter.widget-view+json": {
       "model_id": "07d3f7be8e42434abb6b200ab7db6bc7",
       "version_major": 2,
       "version_minor": 0
      },
      "text/plain": [
       "Downloading metadata: 0.00B [00:00, ?B/s]"
      ]
     },
     "metadata": {},
     "output_type": "display_data"
    },
    {
     "data": {
      "application/vnd.jupyter.widget-view+json": {
       "model_id": "a907caa98d5843339ba9694fab02f9e0",
       "version_major": 2,
       "version_minor": 0
      },
      "text/plain": [
       "Filter:   0%|          | 0/14042 [00:00<?, ? examples/s]"
      ]
     },
     "metadata": {},
     "output_type": "display_data"
    },
    {
     "name": "stderr",
     "output_type": "stream",
     "text": [
      "Evaluating MMLU: 100%|██████████| 50/50 [00:10<00:00,  4.56it/s]"
     ]
    },
    {
     "name": "stdout",
     "output_type": "stream",
     "text": [
      "anatomy: 0.5600\n",
      "\n",
      "Overall MMLU Accuracy: 0.5600\n"
     ]
    },
    {
     "name": "stderr",
     "output_type": "stream",
     "text": [
      "\n"
     ]
    }
   ],
   "source": [
    "import numpy as np\n",
    "from datasets import load_dataset\n",
    "from tqdm import tqdm\n",
    "\n",
    "def evaluate_mmlu_direct(model, tokenizer):\n",
    "    \"\"\"Evaluate the model on MMLU dataset with a direct implementation\"\"\"\n",
    "    # Load the MMLU dataset\n",
    "    mmlu_dataset = load_dataset(\"cais/mmlu\", \"all\", split=\"test\")\n",
    "    \n",
    "    # We'll focus on medical-related tasks\n",
    "    medical_tasks = [\n",
    "        \"anatomy\", \"clinical_knowledge\", \"college_medicine\", \n",
    "        \"medical_genetics\", \"professional_medicine\", \"virology\"\n",
    "    ]\n",
    "    \n",
    "    # Filter for medical tasks\n",
    "    medical_data = mmlu_dataset.filter(lambda x: x[\"subject\"] in medical_tasks)\n",
    "    \n",
    "    # Limit to 50 examples for faster evaluation\n",
    "    medical_data = medical_data.select(range(min(50, len(medical_data))))\n",
    "    \n",
    "    # Initialize results dictionary\n",
    "    results = {}\n",
    "    subject_results = {subject: {\"correct\": 0, \"total\": 0} for subject in medical_tasks}\n",
    "    \n",
    "    # Set model to evaluation mode\n",
    "    model.eval()\n",
    "    \n",
    "    for example in tqdm(medical_data, desc=\"Evaluating MMLU\"):\n",
    "        # Format the prompt\n",
    "        prompt = f\"The following are multiple choice questions (with answers) about medical knowledge.\\n\\n\"\n",
    "        \n",
    "        # Add the question and choices\n",
    "        prompt += f\"Question: {example['question']}\\n\"\n",
    "        for i, choice in enumerate(example['choices']):\n",
    "            prompt += f\"{chr(65+i)}. {choice}\\n\"\n",
    "        prompt += \"Answer:\"\n",
    "        \n",
    "        # Tokenize the prompt\n",
    "        inputs = tokenizer(prompt, return_tensors=\"pt\").to(model.device)\n",
    "        \n",
    "        # Generate the answer\n",
    "        with torch.no_grad():\n",
    "            outputs = model.generate(\n",
    "                input_ids=inputs[\"input_ids\"],\n",
    "                attention_mask=inputs[\"attention_mask\"],\n",
    "                max_new_tokens=5,\n",
    "                do_sample=False,\n",
    "                pad_token_id=tokenizer.eos_token_id\n",
    "            )\n",
    "        \n",
    "        # Decode the generated text\n",
    "        generated_text = tokenizer.decode(outputs[0], skip_special_tokens=True)\n",
    "        \n",
    "        # Extract the answer (A, B, C, or D)\n",
    "        answer = generated_text.split(\"Answer:\")[-1].strip().upper()\n",
    "        \n",
    "        # Convert to index (0, 1, 2, or 3)\n",
    "        if answer and answer[0] in ['A', 'B', 'C', 'D']:\n",
    "            predicted_idx = ord(answer[0]) - ord('A')\n",
    "        else:\n",
    "            # Default to first choice if no clear answer\n",
    "            predicted_idx = 0\n",
    "        \n",
    "        # Update results\n",
    "        subject = example['subject']\n",
    "        subject_results[subject][\"total\"] += 1\n",
    "        if predicted_idx == example['answer']:\n",
    "            subject_results[subject][\"correct\"] += 1\n",
    "    \n",
    "    # Calculate overall accuracy\n",
    "    total_correct = sum([v[\"correct\"] for v in subject_results.values()])\n",
    "    total_total = sum([v[\"total\"] for v in subject_results.values()])\n",
    "    overall_accuracy = total_correct / total_total if total_total > 0 else 0\n",
    "    \n",
    "    # Calculate per-subject accuracy\n",
    "    for subject in medical_tasks:\n",
    "        if subject_results[subject][\"total\"] > 0:\n",
    "            subject_accuracy = subject_results[subject][\"correct\"] / subject_results[subject][\"total\"]\n",
    "            results[f\"mmlu_{subject}\"] = subject_accuracy\n",
    "            print(f\"{subject}: {subject_accuracy:.4f}\")\n",
    "    \n",
    "    # Print overall accuracy\n",
    "    print(f\"\\nOverall MMLU Accuracy: {overall_accuracy:.4f}\")\n",
    "    \n",
    "    return {\n",
    "        \"accuracy\": overall_accuracy,\n",
    "        \"subject_results\": subject_results\n",
    "    }\n",
    "\n",
    "# Evaluate on MMLU\n",
    "mmlu_results = evaluate_mmlu_direct(model, tokenizer)"
   ]
  },
  {
   "cell_type": "markdown",
   "metadata": {},
   "source": [
    "### Inference"
   ]
  },
  {
   "cell_type": "code",
   "execution_count": 27,
   "metadata": {},
   "outputs": [
    {
     "name": "stderr",
     "output_type": "stream",
     "text": [
      "/usr/local/lib/python3.11/dist-packages/huggingface_hub/file_download.py:945: FutureWarning: `resume_download` is deprecated and will be removed in version 1.0.0. Downloads always resume when possible. If you want to force a new download, use `force_download=True`.\n",
      "  warnings.warn(\n"
     ]
    },
    {
     "data": {
      "application/vnd.jupyter.widget-view+json": {
       "model_id": "33407a2b9b894045bf8ae14d52e6dcb6",
       "version_major": 2,
       "version_minor": 0
      },
      "text/plain": [
       "Loading checkpoint shards:   0%|          | 0/3 [00:00<?, ?it/s]"
      ]
     },
     "metadata": {},
     "output_type": "display_data"
    },
    {
     "name": "stdout",
     "output_type": "stream",
     "text": [
      "<s>[INST] Context: Recent studies have shown that regular physical activity can reduce the risk of cardiovascular disease by up to 35%.\n",
      "\n",
      "Question: Does exercise reduce heart disease risk? [/INST] Yes, regular physical activity can help reduce the risk\n"
     ]
    }
   ],
   "source": [
    "from transformers import pipeline\n",
    "\n",
    "# Load the fine-tuned model\n",
    "model_path = \"./mistral-pubmedqa-finetune\"\n",
    "tokenizer = AutoTokenizer.from_pretrained(model_path)\n",
    "model = AutoModelForCausalLM.from_pretrained(model_path)\n",
    "\n",
    "# Create a text generation pipeline\n",
    "qa_pipeline = pipeline(\"text-generation\", model=model, tokenizer=tokenizer)\n",
    "\n",
    "# Example question\n",
    "context = \"Recent studies have shown that regular physical activity can reduce the risk of cardiovascular disease by up to 35%.\"\n",
    "question = \"Does exercise reduce heart disease risk?\"\n",
    "\n",
    "# Format the prompt\n",
    "prompt = f\"<s>[INST] Context: {context}\\n\\nQuestion: {question} [/INST]\"\n",
    "\n",
    "# Generate answer\n",
    "result = qa_pipeline(prompt, max_new_tokens=10, num_return_sequences=1)\n",
    "print(result[0]['generated_text'])"
   ]
  },
  {
   "cell_type": "code",
   "execution_count": null,
   "metadata": {},
   "outputs": [],
   "source": []
  }
 ],
 "metadata": {
  "kaggle": {
   "accelerator": "gpu",
   "dataSources": [],
   "dockerImageVersionId": 31090,
   "isGpuEnabled": true,
   "isInternetEnabled": true,
   "language": "python",
   "sourceType": "notebook"
  },
  "kernelspec": {
   "display_name": "Python 3 (ipykernel)",
   "language": "python",
   "name": "python3"
  },
  "language_info": {
   "codemirror_mode": {
    "name": "ipython",
    "version": 3
   },
   "file_extension": ".py",
   "mimetype": "text/x-python",
   "name": "python",
   "nbconvert_exporter": "python",
   "pygments_lexer": "ipython3",
   "version": "3.11.11"
  }
 },
 "nbformat": 4,
 "nbformat_minor": 4
}
